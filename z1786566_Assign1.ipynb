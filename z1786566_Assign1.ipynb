{
  "nbformat": 4,
  "nbformat_minor": 0,
  "metadata": {
    "kernelspec": {
      "display_name": "Python 3",
      "language": "python",
      "name": "python3"
    },
    "language_info": {
      "codemirror_mode": {
        "name": "ipython",
        "version": 3
      },
      "file_extension": ".py",
      "mimetype": "text/x-python",
      "name": "python",
      "nbconvert_exporter": "python",
      "pygments_lexer": "ipython3",
      "version": "3.7.3"
    },
    "colab": {
      "name": "z1786566_Assign1.ipynb",
      "provenance": [],
      "collapsed_sections": []
    }
  },
  "cells": [
    {
      "cell_type": "code",
      "metadata": {
        "id": "pUtXuUOBRFi5",
        "colab_type": "code",
        "colab": {}
      },
      "source": [
        "import numpy as np\n",
        "import pandas as pd\n",
        "import operator\n",
        "from functools import reduce\n",
        "from collections import defaultdict\n",
        "import math\n",
        "from sklearn.metrics import confusion_matrix\n",
        "import matplotlib.pyplot as plt\n",
        "import random"
      ],
      "execution_count": 0,
      "outputs": []
    },
    {
      "cell_type": "code",
      "metadata": {
        "id": "ewVuEyE_RFjA",
        "colab_type": "code",
        "colab": {}
      },
      "source": [
        "def value():\n",
        "    return 0\n",
        "## Uses python dictionary or default dict for counting the words\n",
        "# or counter class from collections \n",
        "\n",
        "\n",
        "class NaiveBayes:\n",
        "    ''' Implements the Naive Bayes For Digit Classification '''\n",
        "    def __init__(self, classes):\n",
        "        self.classes = classes\n",
        "        \n",
        "        \n",
        "    def addExample(self, x, y):\n",
        "        '''\n",
        "            Add example to corresponding class model\n",
        "            Input\n",
        "            ---------\n",
        "            x: example (list of binary of image)\n",
        "            y: label\n",
        "        '''\n",
        "\n",
        "        \n",
        "    def train(self, X, Y):\n",
        "        ''' Train the multiclass (or Binary) Bayes Rule using the given \n",
        "            X [m x d] data matrix and Y labels matrix\n",
        "            \n",
        "            Input:\n",
        "            ------\n",
        "            X: [m x d] a data matrix of m d-dimensional examples.\n",
        "            Y: [m x 1] a label vector.\n",
        "            \n",
        "\n",
        "        '''\n",
        "    \n",
        "    \n",
        "        self.ls = []\n",
        "        self.ls_prior = []\n",
        "        self.t_dict=defaultdict(value)\n",
        "        self.count = []\n",
        "        \n",
        "        for i in range (0,len(self.classes)):\n",
        "            Y = Y.ravel()\n",
        "            x = X[Y == self.classes[i]]\n",
        "            self.ls_prior.append((len(x)*1.0)/len(X))\n",
        "            c = defaultdict(value)\n",
        "            counter = 0\n",
        "            \n",
        "            for j in range(0,len(x)):\n",
        "                \n",
        "                for k in x[j]:\n",
        "                    \n",
        "                    c[k] += 1\n",
        "                    self.t_dict[k] += 1\n",
        "                    counter += 1\n",
        "                    \n",
        "            self.count.append(counter)        \n",
        "            self.ls.append(c)        \n",
        "               \n",
        "        \n",
        "\n",
        "    def test(self, X):\n",
        "        \n",
        "        ''' Test the trained classifiers on the given set of examples \n",
        "        \n",
        "                   \n",
        "            Input:\n",
        "            ------\n",
        "            X: [m x d] a data matrix of m d-dimensional test examples.\n",
        "           \n",
        "            Returns:\n",
        "            -----------\n",
        "                pclass: the predicted class for each example,\n",
        "                        i.e. to which it belongs\n",
        "        '''\n",
        "        \n",
        "        nexamples, nfeatures = X.shape\n",
        "               \n",
        "        ls_classes = []\n",
        "        \n",
        "        for sentence in X:\n",
        "            ls_classes.append(self.predict(sentence))\n",
        "        \n",
        "        return np.array(ls_classes)\n",
        "\n",
        "      \n",
        "    def predict(self, x):\n",
        "        '''\n",
        "            Predict the label of given input example\n",
        "            \n",
        "            Input\n",
        "            ---------\n",
        "            x: example (list of words)\n",
        "            \n",
        "        '''\n",
        "        \n",
        "        # Calculate density\n",
        "        prob_ls = []\n",
        "        for c in range(0,len(self.classes)):\n",
        "            prob = 0.0\n",
        "            den = self.count[c]+len(self.t_dict)\n",
        "            \n",
        "            # Calculate probability\n",
        "            for word in x:\n",
        "                prob += math.log((self.ls[c][word]+1.0) / den)\n",
        "            prob += math.log(self.ls_prior[c])\n",
        "            prob_ls.append(prob)\n",
        "        \n",
        "        return self.classes[np.argmax(prob_ls)]\n",
        "\n",
        "      \n",
        "      \n",
        "    def confusionMatrix(self, actual, predict, print_cfm=True, print_err_digit=True):\n",
        "        '''\n",
        "            Displays and returns a cfm - confusion matrix\n",
        "            \n",
        "            Input\n",
        "            ---------\n",
        "            actual: actual results of what the # was\n",
        "            predict: prediction results of what the # was\n",
        "            \n",
        "        '''\n",
        "      \n",
        "        cfm = pd.DataFrame(confusion_matrix(actual, predict))\n",
        "        if print_cfm:\n",
        "            print('Testing Confusion Matrix: Actual vs. Prediction')\n",
        "            display(cfm)\n",
        "        return cfm\n"
      ],
      "execution_count": 0,
      "outputs": []
    },
    {
      "cell_type": "code",
      "metadata": {
        "id": "12lBJvCQRFjH",
        "colab_type": "code",
        "colab": {}
      },
      "source": [
        "def splitString(string):\n",
        "    return list(string)"
      ],
      "execution_count": 0,
      "outputs": []
    },
    {
      "cell_type": "code",
      "metadata": {
        "id": "CPVbcWhERFjM",
        "colab_type": "code",
        "colab": {}
      },
      "source": [
        "def returnDataList(filepath):\n",
        "\n",
        "    # read the Training data-set and return it : listt\n",
        "    listt = []\n",
        "    fp= open(filepath)\n",
        "    lines = fp.readlines()\n",
        "    ind = 0\n",
        "    temp = []\n",
        "    \n",
        "    # nested for loops to read each line and assign each value a 0 or 1\n",
        "    for line in lines:\n",
        "        line = line[0:28]\n",
        "        line = splitString(line)\n",
        "        for index, item in enumerate(line):\n",
        "            if(item == \" \"):\n",
        "                line[index] = '0'\n",
        "            elif( item == \"+\"):\n",
        "                line[index] = '1'\n",
        "            else:\n",
        "                line[index] = '1'\n",
        "        temp.append(line)\n",
        "        ind += 1\n",
        "        \n",
        "        if(ind == 28):\n",
        "            ind = 0\n",
        "            temp = reduce(operator.concat,temp)\n",
        "            temp = list(map(int, temp))\n",
        "            listt.append(np.array(temp))\n",
        "            temp = []\n",
        "    return listt"
      ],
      "execution_count": 0,
      "outputs": []
    },
    {
      "cell_type": "code",
      "metadata": {
        "id": "yhrSvKvURFjQ",
        "colab_type": "code",
        "colab": {}
      },
      "source": [
        "def readDataLabels(path):\n",
        "    # read and return the labels\n",
        "    labelslist=[]\n",
        "    fpath= open(path,'r')\n",
        "    labels = fpath.readlines()\n",
        "    for item in labels:\n",
        "        labelslist.append(item.rstrip('\\n'))\n",
        "    all_labels = np.array(labelslist)\n",
        "    return all_labels"
      ],
      "execution_count": 0,
      "outputs": []
    },
    {
      "cell_type": "code",
      "metadata": {
        "id": "nNed73UvRFjW",
        "colab_type": "code",
        "colab": {}
      },
      "source": [
        "# read the Training data-set\n",
        "trainfilepath = './trainingimages'\n",
        "traindata = np.array(returnDataList(trainfilepath))\n",
        "\n",
        "# read the Training labels\n",
        "train_label_filepath = './traininglabels'\n",
        "traininglabels = readDataLabels(train_label_filepath)\n",
        "traininglabels = traininglabels.reshape(5000,1)\n",
        "\n",
        "# read the Test Labels\n",
        "test_label_filepath = './testlabels'\n",
        "testlabels = readDataLabels(test_label_filepath)\n",
        "testlabels = testlabels.reshape(1000,1)\n",
        "\n",
        "# read the Test data-set\n",
        "testfilepath = './testimages'\n",
        "testdata = np.array(returnDataList(testfilepath))\n"
      ],
      "execution_count": 0,
      "outputs": []
    },
    {
      "cell_type": "code",
      "metadata": {
        "id": "lksFf8mWRFjd",
        "colab_type": "code",
        "outputId": "7bad6db7-f447-44a2-b0ec-704cf0eb48cb",
        "colab": {
          "base_uri": "https://localhost:8080/",
          "height": 281
        }
      },
      "source": [
        "plt.imshow(np.reshape(traindata[random.randint(1,1000)], [28,28]), cmap='Greys_r'); plt.title('Visualizing a random sample'); plt.show()"
      ],
      "execution_count": 22,
      "outputs": [
        {
          "output_type": "display_data",
          "data": {
            "image/png": "[encoded data removed]",
            "text/plain": [
              "<Figure size 432x288 with 1 Axes>"
            ]
          },
          "metadata": {
            "tags": []
          }
        }
      ]
    },
    {
      "cell_type": "code",
      "metadata": {
        "id": "_LJ69jAZRFjj",
        "colab_type": "code",
        "outputId": "edfdaa22-ec10-49f5-e47f-afbd42ea0075",
        "colab": {
          "base_uri": "https://localhost:8080/",
          "height": 52
        }
      },
      "source": [
        "#generate training and testing data...\n",
        "print(\"Training data Dimensions =\", traindata.shape,\" Training labels dimensions=\", traininglabels.shape)\n",
        "classes = np.unique(traininglabels)\n",
        "print(\"Classes = \",classes)"
      ],
      "execution_count": 9,
      "outputs": [
        {
          "output_type": "stream",
          "text": [
            "Training data Dimensions = (5000, 784)  Training labels dimensions= (5000, 1)\n",
            "Classes =  ['0' '1' '2' '3' '4' '5' '6' '7' '8' '9']\n"
          ],
          "name": "stdout"
        }
      ]
    },
    {
      "cell_type": "code",
      "metadata": {
        "id": "_bQtbmadRFjp",
        "colab_type": "code",
        "colab": {}
      },
      "source": [
        "# Create object and call train method\n",
        "nb = NaiveBayes(classes)\n",
        "nb.train(traindata,traininglabels)"
      ],
      "execution_count": 0,
      "outputs": []
    },
    {
      "cell_type": "code",
      "metadata": {
        "id": "eSoqSJVGRFjw",
        "colab_type": "code",
        "colab": {}
      },
      "source": [
        "pclasses = nb.test(testdata)"
      ],
      "execution_count": 0,
      "outputs": []
    },
    {
      "cell_type": "code",
      "metadata": {
        "id": "4DyuyxtuRFj0",
        "colab_type": "code",
        "outputId": "f8b45f70-f2e3-4140-d342-5ebe097f4730",
        "colab": {
          "base_uri": "https://localhost:8080/",
          "height": 72
        }
      },
      "source": [
        "from sklearn.naive_bayes import MultinomialNB\n",
        "clf = MultinomialNB()\n",
        "clf.fit(traindata, traininglabels)\n",
        "MultinomialNB(alpha=0.05, class_prior=None, fit_prior=True)\n",
        "predicted_classes = clf.predict(testdata)"
      ],
      "execution_count": 12,
      "outputs": [
        {
          "output_type": "stream",
          "text": [
            "/usr/local/lib/python3.6/dist-packages/sklearn/utils/validation.py:724: DataConversionWarning: A column-vector y was passed when a 1d array was expected. Please change the shape of y to (n_samples, ), for example using ravel().\n",
            "  y = column_or_1d(y, warn=True)\n"
          ],
          "name": "stderr"
        }
      ]
    },
    {
      "cell_type": "code",
      "metadata": {
        "id": "QLbIMibSRFj4",
        "colab_type": "code",
        "outputId": "ceb007ec-46b4-40ec-fab9-74f2798402b4",
        "colab": {
          "base_uri": "https://localhost:8080/",
          "height": 366
        }
      },
      "source": [
        "conf_matix = nb.confusionMatrix(testlabels, predicted_classes)"
      ],
      "execution_count": 13,
      "outputs": [
        {
          "output_type": "stream",
          "text": [
            "Testing Confusion Matrix: Actual vs. Prediction\n"
          ],
          "name": "stdout"
        },
        {
          "output_type": "display_data",
          "data": {
            "text/html": [
              "<div>\n",
              "<style scoped>\n",
              "    .dataframe tbody tr th:only-of-type {\n",
              "        vertical-align: middle;\n",
              "    }\n",
              "\n",
              "    .dataframe tbody tr th {\n",
              "        vertical-align: top;\n",
              "    }\n",
              "\n",
              "    .dataframe thead th {\n",
              "        text-align: right;\n",
              "    }\n",
              "</style>\n",
              "<table border=\"1\" class=\"dataframe\">\n",
              "  <thead>\n",
              "    <tr style=\"text-align: right;\">\n",
              "      <th></th>\n",
              "      <th>0</th>\n",
              "      <th>1</th>\n",
              "      <th>2</th>\n",
              "      <th>3</th>\n",
              "      <th>4</th>\n",
              "      <th>5</th>\n",
              "      <th>6</th>\n",
              "      <th>7</th>\n",
              "      <th>8</th>\n",
              "      <th>9</th>\n",
              "    </tr>\n",
              "  </thead>\n",
              "  <tbody>\n",
              "    <tr>\n",
              "      <th>0</th>\n",
              "      <td>78</td>\n",
              "      <td>0</td>\n",
              "      <td>1</td>\n",
              "      <td>0</td>\n",
              "      <td>0</td>\n",
              "      <td>1</td>\n",
              "      <td>3</td>\n",
              "      <td>0</td>\n",
              "      <td>7</td>\n",
              "      <td>0</td>\n",
              "    </tr>\n",
              "    <tr>\n",
              "      <th>1</th>\n",
              "      <td>0</td>\n",
              "      <td>102</td>\n",
              "      <td>0</td>\n",
              "      <td>0</td>\n",
              "      <td>0</td>\n",
              "      <td>0</td>\n",
              "      <td>1</td>\n",
              "      <td>0</td>\n",
              "      <td>5</td>\n",
              "      <td>0</td>\n",
              "    </tr>\n",
              "    <tr>\n",
              "      <th>2</th>\n",
              "      <td>1</td>\n",
              "      <td>2</td>\n",
              "      <td>77</td>\n",
              "      <td>3</td>\n",
              "      <td>2</td>\n",
              "      <td>1</td>\n",
              "      <td>6</td>\n",
              "      <td>1</td>\n",
              "      <td>10</td>\n",
              "      <td>0</td>\n",
              "    </tr>\n",
              "    <tr>\n",
              "      <th>3</th>\n",
              "      <td>0</td>\n",
              "      <td>0</td>\n",
              "      <td>0</td>\n",
              "      <td>84</td>\n",
              "      <td>0</td>\n",
              "      <td>1</td>\n",
              "      <td>2</td>\n",
              "      <td>4</td>\n",
              "      <td>2</td>\n",
              "      <td>7</td>\n",
              "    </tr>\n",
              "    <tr>\n",
              "      <th>4</th>\n",
              "      <td>0</td>\n",
              "      <td>0</td>\n",
              "      <td>2</td>\n",
              "      <td>0</td>\n",
              "      <td>72</td>\n",
              "      <td>1</td>\n",
              "      <td>4</td>\n",
              "      <td>0</td>\n",
              "      <td>3</td>\n",
              "      <td>25</td>\n",
              "    </tr>\n",
              "    <tr>\n",
              "      <th>5</th>\n",
              "      <td>2</td>\n",
              "      <td>1</td>\n",
              "      <td>1</td>\n",
              "      <td>17</td>\n",
              "      <td>4</td>\n",
              "      <td>47</td>\n",
              "      <td>2</td>\n",
              "      <td>1</td>\n",
              "      <td>9</td>\n",
              "      <td>8</td>\n",
              "    </tr>\n",
              "    <tr>\n",
              "      <th>6</th>\n",
              "      <td>2</td>\n",
              "      <td>5</td>\n",
              "      <td>2</td>\n",
              "      <td>0</td>\n",
              "      <td>3</td>\n",
              "      <td>3</td>\n",
              "      <td>72</td>\n",
              "      <td>0</td>\n",
              "      <td>4</td>\n",
              "      <td>0</td>\n",
              "    </tr>\n",
              "    <tr>\n",
              "      <th>7</th>\n",
              "      <td>0</td>\n",
              "      <td>5</td>\n",
              "      <td>3</td>\n",
              "      <td>0</td>\n",
              "      <td>4</td>\n",
              "      <td>0</td>\n",
              "      <td>0</td>\n",
              "      <td>75</td>\n",
              "      <td>4</td>\n",
              "      <td>15</td>\n",
              "    </tr>\n",
              "    <tr>\n",
              "      <th>8</th>\n",
              "      <td>1</td>\n",
              "      <td>2</td>\n",
              "      <td>3</td>\n",
              "      <td>12</td>\n",
              "      <td>3</td>\n",
              "      <td>5</td>\n",
              "      <td>0</td>\n",
              "      <td>1</td>\n",
              "      <td>66</td>\n",
              "      <td>10</td>\n",
              "    </tr>\n",
              "    <tr>\n",
              "      <th>9</th>\n",
              "      <td>1</td>\n",
              "      <td>1</td>\n",
              "      <td>0</td>\n",
              "      <td>3</td>\n",
              "      <td>8</td>\n",
              "      <td>0</td>\n",
              "      <td>0</td>\n",
              "      <td>2</td>\n",
              "      <td>4</td>\n",
              "      <td>81</td>\n",
              "    </tr>\n",
              "  </tbody>\n",
              "</table>\n",
              "</div>"
            ],
            "text/plain": [
              "    0    1   2   3   4   5   6   7   8   9\n",
              "0  78    0   1   0   0   1   3   0   7   0\n",
              "1   0  102   0   0   0   0   1   0   5   0\n",
              "2   1    2  77   3   2   1   6   1  10   0\n",
              "3   0    0   0  84   0   1   2   4   2   7\n",
              "4   0    0   2   0  72   1   4   0   3  25\n",
              "5   2    1   1  17   4  47   2   1   9   8\n",
              "6   2    5   2   0   3   3  72   0   4   0\n",
              "7   0    5   3   0   4   0   0  75   4  15\n",
              "8   1    2   3  12   3   5   0   1  66  10\n",
              "9   1    1   0   3   8   0   0   2   4  81"
            ]
          },
          "metadata": {
            "tags": []
          }
        }
      ]
    },
    {
      "cell_type": "code",
      "metadata": {
        "id": "JB1myDFMRFj9",
        "colab_type": "code",
        "colab": {}
      },
      "source": [
        "# Loop through each class (0-10) and add it to the total\n",
        "total = 0\n",
        "for i in range(0,10):\n",
        "    total += conf_matix[i][i]"
      ],
      "execution_count": 0,
      "outputs": []
    },
    {
      "cell_type": "code",
      "metadata": {
        "id": "ogyZgHAORFkB",
        "colab_type": "code",
        "outputId": "e0a1680d-f0eb-4ca6-f6b9-239cb8a0c93f",
        "colab": {
          "base_uri": "https://localhost:8080/",
          "height": 34
        }
      },
      "source": [
        "# Display the program's accuracy\n",
        "acc = total / len(testlabels) * 100\n",
        "print(\"Accuracy: \",str(acc) + \"%\")"
      ],
      "execution_count": 15,
      "outputs": [
        {
          "output_type": "stream",
          "text": [
            "Accuracy:  75.4%\n"
          ],
          "name": "stdout"
        }
      ]
    },
    {
      "cell_type": "code",
      "metadata": {
        "id": "WmE49yazRFkG",
        "colab_type": "code",
        "colab": {}
      },
      "source": [
        ""
      ],
      "execution_count": 0,
      "outputs": []
    }
  ]
}